{
 "cells": [
  {
   "cell_type": "code",
   "execution_count": 2,
   "metadata": {
    "collapsed": false
   },
   "outputs": [],
   "source": []
  },
  {
   "cell_type": "code",
   "execution_count": 1,
   "metadata": {
    "collapsed": true
   },
   "outputs": [],
   "source": [
    "import torch\n",
    "from torch.autograd import Variable"
   ]
  },
  {
   "cell_type": "code",
   "execution_count": 2,
   "metadata": {
    "collapsed": true
   },
   "outputs": [],
   "source": [
    "v = Variable(torch.randn(100,1,28,28))"
   ]
  },
  {
   "cell_type": "code",
   "execution_count": 3,
   "metadata": {
    "collapsed": false
   },
   "outputs": [
    {
     "name": "stdout",
     "output_type": "stream",
     "text": [
      "torch.Size([100, 16, 4, 4])\n"
     ]
    },
    {
     "data": {
      "text/plain": [
       "Variable containing:\n",
       "-2.1876 -2.4636 -2.2696  ...  -2.3420 -2.1882 -2.3789\n",
       "-2.1969 -2.4257 -2.4331  ...  -2.1965 -2.1729 -2.3781\n",
       "-2.1919 -2.3251 -2.1230  ...  -2.3525 -2.4123 -2.3446\n",
       "          ...             ⋱             ...          \n",
       "-2.1733 -2.4239 -2.2655  ...  -2.2498 -2.3057 -2.4159\n",
       "-2.3864 -2.4568 -2.4123  ...  -2.2199 -2.2081 -2.5052\n",
       "-2.2654 -2.4483 -2.3151  ...  -2.1198 -2.2071 -2.4616\n",
       "[torch.FloatTensor of size 100x10]"
      ]
     },
     "execution_count": 3,
     "metadata": {},
     "output_type": "execute_result"
    }
   ],
   "source": [
    "from test_model import Net \n",
    "model = Net()\n",
    "model.forward(v)"
   ]
  },
  {
   "cell_type": "code",
   "execution_count": null,
   "metadata": {
    "collapsed": false
   },
   "outputs": [],
   "source": []
  },
  {
   "cell_type": "code",
   "execution_count": null,
   "metadata": {
    "collapsed": true
   },
   "outputs": [],
   "source": []
  }
 ],
 "metadata": {
  "kernelspec": {
   "display_name": "Python 2",
   "language": "python",
   "name": "python2"
  },
  "language_info": {
   "codemirror_mode": {
    "name": "ipython",
    "version": 2
   },
   "file_extension": ".py",
   "mimetype": "text/x-python",
   "name": "python",
   "nbconvert_exporter": "python",
   "pygments_lexer": "ipython2",
   "version": "2.7.12"
  }
 },
 "nbformat": 4,
 "nbformat_minor": 0
}
